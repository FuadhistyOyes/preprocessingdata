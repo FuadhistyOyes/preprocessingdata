{
  "nbformat": 4,
  "nbformat_minor": 0,
  "metadata": {
    "colab": {
      "provenance": [],
      "authorship_tag": "ABX9TyNC9Pk8y5sN40TAqxXYyILu",
      "include_colab_link": true
    },
    "kernelspec": {
      "name": "python3",
      "display_name": "Python 3"
    },
    "language_info": {
      "name": "python"
    }
  },
  "cells": [
    {
      "cell_type": "markdown",
      "metadata": {
        "id": "view-in-github",
        "colab_type": "text"
      },
      "source": [
        "<a href=\"https://colab.research.google.com/github/FuadhistyOyes/preprocessingdata/blob/main/preprocessingdata.ipynb\" target=\"_parent\"><img src=\"https://colab.research.google.com/assets/colab-badge.svg\" alt=\"Open In Colab\"/></a>"
      ]
    },
    {
      "cell_type": "markdown",
      "source": [
        "Langkah Awal sebslum kita menjalankan preprocessingdata, kita harus menginport library seperti di bawah ini:"
      ],
      "metadata": {
        "id": "_UmY1-1r8_Sl"
      }
    },
    {
      "cell_type": "code",
      "execution_count": 1,
      "metadata": {
        "id": "miNuf_F76_M9"
      },
      "outputs": [],
      "source": [
        "import numpy as np\n",
        "import matplotlib.pyplot as plt\n",
        "import pandas as pd"
      ]
    },
    {
      "cell_type": "markdown",
      "source": [
        "Setelah mengimpor library, langkah berikutnya adalah membaca data dari file CSV yang berisi nilai X dan Y."
      ],
      "metadata": {
        "id": "6Zf19wcK9Ax3"
      }
    },
    {
      "cell_type": "code",
      "source": [
        "dataset = pd.read_csv('data_penduduk_jatim.csv')\n",
        "x = dataset.iloc[:, :-1].values\n",
        "y = dataset.iloc[:, -1].values"
      ],
      "metadata": {
        "id": "YENFAeFt7pl7"
      },
      "execution_count": 3,
      "outputs": []
    },
    {
      "cell_type": "markdown",
      "source": [
        "menjalankan printah untuk membaca nilai X"
      ],
      "metadata": {
        "id": "nG36UVGi9Cz1"
      }
    },
    {
      "cell_type": "code",
      "source": [
        "print(x)"
      ],
      "metadata": {
        "colab": {
          "base_uri": "https://localhost:8080/"
        },
        "id": "ltZpnklb7v5l",
        "outputId": "9e9907ca-9643-4ece-9f5d-b35300019e95"
      },
      "execution_count": 4,
      "outputs": [
        {
          "output_type": "stream",
          "name": "stdout",
          "text": [
            "[['Surabaya' 45.0 7500000.0]\n",
            " ['Malang' 29.0 4600000.0]\n",
            " ['Kediri' 33.0 nan]\n",
            " ['Surabaya' nan 6200000.0]\n",
            " ['Jember' 40.0 7100000.0]\n",
            " ['Malang' 38.0 nan]\n",
            " ['Kediri' 28.0 5300000.0]\n",
            " ['Surabaya' 50.0 8000000.0]\n",
            " ['Jember' 42.0 8500000.0]\n",
            " ['Malang' nan 6700000.0]]\n"
          ]
        }
      ]
    },
    {
      "cell_type": "markdown",
      "source": [
        "menjalankan printah untuk membaca nilai Y"
      ],
      "metadata": {
        "id": "0BjCHoIh9EZr"
      }
    },
    {
      "cell_type": "code",
      "source": [
        "print(y)"
      ],
      "metadata": {
        "colab": {
          "base_uri": "https://localhost:8080/"
        },
        "id": "djn42PPg7zt1",
        "outputId": "b9f67f9c-f73c-4e3d-b571-d55ba5e5d234"
      },
      "execution_count": 5,
      "outputs": [
        {
          "output_type": "stream",
          "name": "stdout",
          "text": [
            "['Ya' 'Tidak' 'Ya' 'Tidak' 'Ya' 'Tidak' 'Ya' 'Tidak' 'Ya' 'Tidak']\n"
          ]
        }
      ]
    },
    {
      "cell_type": "markdown",
      "source": [
        "Jika terdapat nilai yang hilang dalam dataset, kita akan mengisinya dengan nilai rata-rata (mean) dari masing-masing kolom."
      ],
      "metadata": {
        "id": "6pEjozKZ9G5k"
      }
    },
    {
      "cell_type": "code",
      "source": [
        "from sklearn.impute import SimpleImputer\n",
        "imputer = SimpleImputer(missing_values=np.nan, strategy='mean')\n",
        "imputer.fit(x[:, 1:3])\n",
        "x[:, 1:3] = imputer.transform(x[:, 1:3])"
      ],
      "metadata": {
        "id": "6f-iHFfN736j"
      },
      "execution_count": 6,
      "outputs": []
    },
    {
      "cell_type": "markdown",
      "source": [
        "Ketika kita menjalankan kode print(X), program akan menampilkan data X setelah proses pengisian nilai yang hilang dengan rata-rata (mean). Ini berguna untuk memastikan bahwa semua nilai yang hilang telah terisi dengan benar dan dataset siap digunakan untuk analisis lebih lanjut."
      ],
      "metadata": {
        "id": "i9ghHzxl9HXx"
      }
    },
    {
      "cell_type": "code",
      "source": [
        "print(x)"
      ],
      "metadata": {
        "colab": {
          "base_uri": "https://localhost:8080/"
        },
        "id": "Q4uh1BS576Mh",
        "outputId": "6a0f1a42-4aab-483a-a36a-549b957146be"
      },
      "execution_count": 7,
      "outputs": [
        {
          "output_type": "stream",
          "name": "stdout",
          "text": [
            "[['Surabaya' 45.0 7500000.0]\n",
            " ['Malang' 29.0 4600000.0]\n",
            " ['Kediri' 33.0 6737500.0]\n",
            " ['Surabaya' 38.125 6200000.0]\n",
            " ['Jember' 40.0 7100000.0]\n",
            " ['Malang' 38.0 6737500.0]\n",
            " ['Kediri' 28.0 5300000.0]\n",
            " ['Surabaya' 50.0 8000000.0]\n",
            " ['Jember' 42.0 8500000.0]\n",
            " ['Malang' 38.125 6700000.0]]\n"
          ]
        }
      ]
    },
    {
      "cell_type": "markdown",
      "source": [
        "Kita akan mengubah data kategorikal menjadi bentuk numerik menggunakan One-Hot Encoding. Metode ini akan mengonversi setiap kategori unik dalam kolom menjadi vektor biner, sehingga data lebih mudah diproses oleh algoritma machine learning."
      ],
      "metadata": {
        "id": "4ooddF129JUz"
      }
    },
    {
      "cell_type": "code",
      "source": [
        "from sklearn.compose import ColumnTransformer\n",
        "from sklearn.preprocessing import OneHotEncoder\n",
        "ct = ColumnTransformer(transformers=[('encoder', OneHotEncoder(), [0])], remainder='passthrough')\n",
        "x = np.array(ct.fit_transform(x))"
      ],
      "metadata": {
        "id": "uNS7dgWL78Y8"
      },
      "execution_count": 9,
      "outputs": []
    },
    {
      "cell_type": "markdown",
      "source": [
        "Saat kita menjalankan print(X), program akan menampilkan data X setelah dikonversi menggunakan One-Hot Encoding. Ini memungkinkan kita untuk melihat bagaimana data kategorikal telah diubah menjadi bentuk numerik dengan representasi vektor biner."
      ],
      "metadata": {
        "id": "wMJ0x6u29MCf"
      }
    },
    {
      "cell_type": "code",
      "source": [
        "print(x)"
      ],
      "metadata": {
        "colab": {
          "base_uri": "https://localhost:8080/"
        },
        "id": "EpwKOpR88E6Z",
        "outputId": "57ae5e98-3698-47c0-f34f-b3c11b5707d4"
      },
      "execution_count": 10,
      "outputs": [
        {
          "output_type": "stream",
          "name": "stdout",
          "text": [
            "[[0.0 0.0 0.0 1.0 45.0 7500000.0]\n",
            " [0.0 0.0 1.0 0.0 29.0 4600000.0]\n",
            " [0.0 1.0 0.0 0.0 33.0 6737500.0]\n",
            " [0.0 0.0 0.0 1.0 38.125 6200000.0]\n",
            " [1.0 0.0 0.0 0.0 40.0 7100000.0]\n",
            " [0.0 0.0 1.0 0.0 38.0 6737500.0]\n",
            " [0.0 1.0 0.0 0.0 28.0 5300000.0]\n",
            " [0.0 0.0 0.0 1.0 50.0 8000000.0]\n",
            " [1.0 0.0 0.0 0.0 42.0 8500000.0]\n",
            " [0.0 0.0 1.0 0.0 38.125 6700000.0]]\n"
          ]
        }
      ]
    },
    {
      "cell_type": "markdown",
      "source": [
        "Kita akan mengonversi data kategorikal menjadi bentuk numerik menggunakan Label Encoding. Metode ini menggantikan setiap kategori unik dengan angka tertentu, sehingga data dapat digunakan dalam pemrosesan machine learning."
      ],
      "metadata": {
        "id": "ZptqX4uH9Mgb"
      }
    },
    {
      "cell_type": "code",
      "source": [
        "from sklearn.preprocessing import LabelEncoder\n",
        "le= LabelEncoder()\n",
        "y=le.fit_transform(y)"
      ],
      "metadata": {
        "id": "Onj0soYR8Hwo"
      },
      "execution_count": 14,
      "outputs": []
    },
    {
      "cell_type": "markdown",
      "source": [
        "Saat kita menjalankan `print(y)`, program akan menampilkan data y setelah dikonversi menggunakan Label Encoding. Ini memungkinkan kita melihat bagaimana setiap kategori telah digantikan dengan nilai numerik.\n"
      ],
      "metadata": {
        "id": "M4llFd4c9Oe1"
      }
    },
    {
      "cell_type": "code",
      "source": [
        "print(y)"
      ],
      "metadata": {
        "colab": {
          "base_uri": "https://localhost:8080/"
        },
        "id": "sqW6icMU8IJB",
        "outputId": "896c1dc8-e44a-465c-a514-dd5f2fa3b572"
      },
      "execution_count": 15,
      "outputs": [
        {
          "output_type": "stream",
          "name": "stdout",
          "text": [
            "[1 0 1 0 1 0 1 0 1 0]\n"
          ]
        }
      ]
    },
    {
      "cell_type": "markdown",
      "source": [
        "Kita akan membagi dataset menjadi data latih (training) dan data uji (testing) agar model machine learning dapat belajar dari data latih dan dievaluasi menggunakan data uji."
      ],
      "metadata": {
        "id": "54CvkMK59QZD"
      }
    },
    {
      "cell_type": "code",
      "source": [
        "from sklearn.model_selection import train_test_split\n",
        "x_train, x_test, y_train, y_test = train_test_split(x, y, test_size=0.2, random_state=1)"
      ],
      "metadata": {
        "id": "R2kwECpM8PUN"
      },
      "execution_count": 16,
      "outputs": []
    },
    {
      "cell_type": "markdown",
      "source": [
        "Saat kita menjalankan print(X_train), program akan menampilkan data latih (training) setelah proses pembagian dataset. Data ini digunakan oleh model machine learning untuk belajar pola dari dataset."
      ],
      "metadata": {
        "id": "HTNc5OWV9S3d"
      }
    },
    {
      "cell_type": "code",
      "source": [
        "print(x_train)"
      ],
      "metadata": {
        "colab": {
          "base_uri": "https://localhost:8080/"
        },
        "id": "0rm5R-cU8RQr",
        "outputId": "d2f2fab2-352d-4b1a-9a3d-f4f7e1ed0283"
      },
      "execution_count": 17,
      "outputs": [
        {
          "output_type": "stream",
          "name": "stdout",
          "text": [
            "[[0.0 1.0 0.0 0.0 28.0 5300000.0]\n",
            " [1.0 0.0 0.0 0.0 40.0 7100000.0]\n",
            " [0.0 0.0 0.0 1.0 45.0 7500000.0]\n",
            " [0.0 0.0 0.0 1.0 38.125 6200000.0]\n",
            " [0.0 0.0 1.0 0.0 29.0 4600000.0]\n",
            " [0.0 0.0 0.0 1.0 50.0 8000000.0]\n",
            " [1.0 0.0 0.0 0.0 42.0 8500000.0]\n",
            " [0.0 0.0 1.0 0.0 38.0 6737500.0]]\n"
          ]
        }
      ]
    },
    {
      "cell_type": "markdown",
      "source": [
        "Saat kita menjalankan print(X_test), program akan menampilkan data uji (testing) setelah proses pembagian dataset. Data ini digunakan untuk menguji kinerja model setelah dilatih."
      ],
      "metadata": {
        "id": "VHvqyyQP9U_p"
      }
    },
    {
      "cell_type": "code",
      "source": [
        "print(x_test)"
      ],
      "metadata": {
        "colab": {
          "base_uri": "https://localhost:8080/"
        },
        "id": "HZrIPDG48UrV",
        "outputId": "b522e854-2471-4583-daf4-992bb8b55078"
      },
      "execution_count": 18,
      "outputs": [
        {
          "output_type": "stream",
          "name": "stdout",
          "text": [
            "[[0.0 1.0 0.0 0.0 33.0 6737500.0]\n",
            " [0.0 0.0 1.0 0.0 38.125 6700000.0]]\n"
          ]
        }
      ]
    },
    {
      "cell_type": "markdown",
      "source": [
        "Saat kita menjalankan print(y_train), program akan menampilkan data latih (training) untuk variabel target (y). Data ini digunakan oleh model machine learning untuk belajar dan menemukan pola dari dataset."
      ],
      "metadata": {
        "id": "kv2qZPGD9XOv"
      }
    },
    {
      "cell_type": "code",
      "source": [
        "print(y_train)"
      ],
      "metadata": {
        "colab": {
          "base_uri": "https://localhost:8080/"
        },
        "id": "PZz_FFQr8XYt",
        "outputId": "0ecfd93b-9547-4611-d63f-fcdc7e651e90"
      },
      "execution_count": 19,
      "outputs": [
        {
          "output_type": "stream",
          "name": "stdout",
          "text": [
            "[1 1 1 0 0 0 1 0]\n"
          ]
        }
      ]
    },
    {
      "cell_type": "markdown",
      "source": [
        "Saat kita menjalankan print(y_test), program akan menampilkan data uji (testing) untuk variabel target (y). Data ini digunakan untuk mengukur seberapa baik model dapat memprediksi hasil berdasarkan data yang belum pernah dilihat sebelumnya."
      ],
      "metadata": {
        "id": "RFxWEuLM9Y1d"
      }
    },
    {
      "cell_type": "code",
      "source": [
        "print(y_test)"
      ],
      "metadata": {
        "colab": {
          "base_uri": "https://localhost:8080/"
        },
        "id": "urX5aoS28ZQP",
        "outputId": "f60fdf1d-ea11-4d91-b1c1-2a5f134ff395"
      },
      "execution_count": 20,
      "outputs": [
        {
          "output_type": "stream",
          "name": "stdout",
          "text": [
            "[1 0]\n"
          ]
        }
      ]
    },
    {
      "cell_type": "markdown",
      "source": [
        "Kita akan menstandarisasi fitur numerik dalam dataset menggunakan StandardScaler dari sklearn.preprocessing. Metode ini mengubah data sehingga memiliki rata-rata 0 dan standar deviasi 1, sehingga model machine learning dapat bekerja lebih optimal."
      ],
      "metadata": {
        "id": "1T3z9kH79aeL"
      }
    },
    {
      "cell_type": "code",
      "source": [
        "from sklearn.preprocessing import StandardScaler\n",
        "sc = StandardScaler()\n",
        "x_train[:, 4:] = sc.fit_transform(x_train[:, 4:])\n",
        "x_test[:, 4:]= sc.transform(x_test[:, 4:])"
      ],
      "metadata": {
        "id": "0eIuvXjr8Z9P"
      },
      "execution_count": 21,
      "outputs": []
    },
    {
      "cell_type": "markdown",
      "source": [
        "Saat kita menjalankan `print(X_train)`, program akan menampilkan data latih (training) setelah proses standarisasi. Data ini telah diubah sehingga memiliki rata-rata 0 dan standar deviasi 1, membantu model machine learning bekerja lebih optimal."
      ],
      "metadata": {
        "id": "ntAZqpvW9cNt"
      }
    },
    {
      "cell_type": "code",
      "source": [
        "print(x_train)"
      ],
      "metadata": {
        "colab": {
          "base_uri": "https://localhost:8080/"
        },
        "id": "stStlLwW8ex9",
        "outputId": "c68f9524-d276-49a9-fe7a-502eeef97e15"
      },
      "execution_count": 22,
      "outputs": [
        {
          "output_type": "stream",
          "name": "stdout",
          "text": [
            "[[0.0 1.0 0.0 0.0 -1.5432185735845951 -1.1613389224359332]\n",
            " [1.0 0.0 0.0 0.0 0.17694378419910453 0.2881328420778209]\n",
            " [0.0 0.0 0.0 1.0 0.8936780999423127 0.610237678636433]\n",
            " [0.0 0.0 0.0 1.0 -0.09183158420459855 -0.43660304017905616]\n",
            " [0.0 0.0 1.0 0.0 -1.3998717104359535 -1.7250223864135041]\n",
            " [0.0 0.0 0.0 1.0 1.6104124156855208 1.0128687243346979]\n",
            " [1.0 0.0 0.0 0.0 0.4636375104963878 1.415499770032963]\n",
            " [0.0 0.0 1.0 0.0 -0.10974994209817876 -0.0037746660534212348]]\n"
          ]
        }
      ]
    }
  ]
}